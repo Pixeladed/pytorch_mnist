{
 "cells": [
  {
   "cell_type": "code",
   "metadata": {
    "tags": [],
    "cell_id": "3efd3ab9-c3fd-4300-a901-d5b0308394ca",
    "deepnote_to_be_reexecuted": false,
    "source_hash": "7702f785",
    "execution_start": 1653279277466,
    "execution_millis": 4364,
    "deepnote_cell_type": "code",
    "deepnote_cell_height": 383.25
   },
   "source": "!pip install torch torchvision",
   "outputs": [
    {
     "name": "stdout",
     "text": "Requirement already satisfied: torch in /shared-libs/python3.7/py/lib/python3.7/site-packages (1.11.0)\nRequirement already satisfied: torchvision in /shared-libs/python3.7/py/lib/python3.7/site-packages (0.12.0)\nRequirement already satisfied: typing-extensions in /shared-libs/python3.7/py-core/lib/python3.7/site-packages (from torch) (4.2.0)\nRequirement already satisfied: pillow!=8.3.*,>=5.3.0 in /shared-libs/python3.7/py/lib/python3.7/site-packages (from torchvision) (9.1.0)\nRequirement already satisfied: requests in /shared-libs/python3.7/py/lib/python3.7/site-packages (from torchvision) (2.27.1)\nRequirement already satisfied: numpy in /shared-libs/python3.7/py/lib/python3.7/site-packages (from torchvision) (1.21.6)\nRequirement already satisfied: urllib3<1.27,>=1.21.1 in /shared-libs/python3.7/py/lib/python3.7/site-packages (from requests->torchvision) (1.26.9)\nRequirement already satisfied: certifi>=2017.4.17 in /shared-libs/python3.7/py/lib/python3.7/site-packages (from requests->torchvision) (2021.10.8)\nRequirement already satisfied: idna<4,>=2.5; python_version >= \"3\" in /shared-libs/python3.7/py-core/lib/python3.7/site-packages (from requests->torchvision) (3.3)\nRequirement already satisfied: charset-normalizer~=2.0.0; python_version >= \"3\" in /shared-libs/python3.7/py-core/lib/python3.7/site-packages (from requests->torchvision) (2.0.12)\n\u001b[33mWARNING: You are using pip version 20.1.1; however, version 22.1.1 is available.\nYou should consider upgrading via the '/root/venv/bin/python -m pip install --upgrade pip' command.\u001b[0m\n",
     "output_type": "stream"
    }
   ],
   "execution_count": null
  },
  {
   "cell_type": "code",
   "source": "import torch \nimport torchvision\nimport matplotlib.pyplot as plt",
   "metadata": {
    "cell_id": "002b05117e5b4d40a33473cb86df1ed4",
    "tags": [],
    "deepnote_to_be_reexecuted": false,
    "source_hash": "8b7c0b6c",
    "execution_start": 1653279406631,
    "execution_millis": 2142,
    "deepnote_cell_type": "code",
    "deepnote_cell_height": 117
   },
   "outputs": [],
   "execution_count": null
  },
  {
   "cell_type": "code",
   "source": "# params\nn_epochs = 3\nbatch_size_train = 64\nbatch_size_test = 1000\nlearning_rate = 0.01\nmomentum = 0.5\nlog_interval = 10\n\nseed = 1\ntorch.backends.cudnn.enabled = False\ntorch.manual_seed(seed)",
   "metadata": {
    "cell_id": "4901f9439fbe41d7a4e482bd600a21f4",
    "tags": [],
    "deepnote_to_be_reexecuted": false,
    "source_hash": "d073f19",
    "execution_start": 1653279577007,
    "execution_millis": 22,
    "deepnote_cell_type": "code",
    "deepnote_cell_height": 298.1875,
    "deepnote_output_heights": [
     21.1875
    ]
   },
   "outputs": [
    {
     "output_type": "execute_result",
     "execution_count": 12,
     "data": {
      "text/plain": "<torch._C.Generator at 0x7f94cb089b50>"
     },
     "metadata": {}
    }
   ],
   "execution_count": null
  },
  {
   "cell_type": "code",
   "source": "def create_transformer():\n    return torchvision.transforms.Compose([\n        torchvision.transforms.ToTensor(),\n        torchvision.transforms.Normalize((0.1307,), (0.3081,))\n    ])",
   "metadata": {
    "cell_id": "956828d0ee574e68abf663ddb7fa5f72",
    "tags": [],
    "deepnote_to_be_reexecuted": false,
    "source_hash": "5580e159",
    "execution_start": 1653279588198,
    "execution_millis": 5,
    "deepnote_cell_type": "code",
    "deepnote_cell_height": 153
   },
   "outputs": [],
   "execution_count": null
  },
  {
   "cell_type": "code",
   "source": "def create_dataloader(transformer):\n    train_loader = torch.utils.data.DataLoader(\n        torchvision.datasets.MNIST(\"/files/\", train=True, download=True, transform=transformer),\n        batch_size=batch_size_train,\n        shuffle=True\n    )\n    test_loader = torch.utils.data.DataLoader(\n        torchvision.datasets.MNIST(\"/files/\", train=False, download=True, transform=transformer),\n        batch_size=batch_size_test,\n        shuffle=True\n    )\n    return train_loader, test_loader",
   "metadata": {
    "cell_id": "ca13d224283545718ac23aa465722dc4",
    "tags": [],
    "deepnote_to_be_reexecuted": false,
    "source_hash": "9e83b3c4",
    "execution_start": 1653279589838,
    "execution_millis": 3,
    "deepnote_cell_type": "code",
    "deepnote_cell_height": 279
   },
   "outputs": [],
   "execution_count": null
  },
  {
   "cell_type": "code",
   "source": "def inspect_dataset(dataloader):\n    examples = enumerate(dataloader)\n    batch_idx, (example_data, example_targets) = next(examples)\n\n    fig = plt.figure()\n    for i in range(6):\n        plt.subplot(2,3,i+1)\n        plt.tight_layout()\n        plt.imshow(example_data[i][0], cmap='gray', interpolation='none')\n        plt.title(\"Ground Truth: {}\".format(example_targets[i]))\n        plt.xticks([])\n        plt.yticks([])\n    fig",
   "metadata": {
    "cell_id": "1752d1918faf4fed8774d0acf4285cf9",
    "tags": [],
    "deepnote_to_be_reexecuted": false,
    "source_hash": "f748e706",
    "execution_start": 1653279594090,
    "execution_millis": 1,
    "deepnote_cell_type": "code",
    "deepnote_cell_height": 297
   },
   "outputs": [],
   "execution_count": null
  },
  {
   "cell_type": "code",
   "source": "transformer = create_transformer()\ntrain_loader, test_loader = create_dataloader(transformer)\ninspect_dataset(test_loader)",
   "metadata": {
    "cell_id": "b1e3e6811b4c4366b4383bd83274e113",
    "tags": [],
    "deepnote_to_be_reexecuted": false,
    "source_hash": "55b818b5",
    "execution_start": 1653279621141,
    "execution_millis": 893,
    "deepnote_cell_type": "code",
    "deepnote_cell_height": 402,
    "deepnote_output_heights": [
     269
    ]
   },
   "outputs": [
    {
     "data": {
      "text/plain": "<Figure size 432x288 with 6 Axes>",
      "image/png": "[encoded data removed]"
     },
     "metadata": {
      "image/png": {
       "width": 404,
       "height": 267
      }
     },
     "output_type": "display_data"
    }
   ],
   "execution_count": null
  },
  {
   "cell_type": "markdown",
   "source": "## Model",
   "metadata": {
    "cell_id": "359df427ea6d466a9e121577b98c893b",
    "tags": [],
    "is_collapsed": false,
    "deepnote_cell_type": "text-cell-h2"
   }
  },
  {
   "cell_type": "code",
   "source": "import torch.nn as nn\nimport torch.nn.functional as F\nimport torch.optim as optim",
   "metadata": {
    "cell_id": "ff62d30ca82a4c6eb2918f6d64d44027",
    "tags": [],
    "deepnote_to_be_reexecuted": false,
    "source_hash": "f5b28f49",
    "execution_start": 1653279627759,
    "execution_millis": 9,
    "deepnote_cell_type": "code",
    "deepnote_cell_height": 117
   },
   "outputs": [],
   "execution_count": null
  },
  {
   "cell_type": "code",
   "source": "class Model(nn.Module):\n    def __init__(self):\n        super(Model, self).__init__()\n\n        # 2 convolutional layers\n        self.conv1 = nn.Conv2d(1, 10, kernel_size=5)\n        self.conv2 = nn.Conv2d(10, 20, kernel_size=5)\n\n        # a dropout layer for generalization\n        self.conv2_drop = nn.Dropout2d()\n\n        # 2 fully connected layers for predictions\n        self.fc1 = nn.Linear(320, 50)\n        self.fc2 = nn.Linear(50, 10)\n\n    def forward(self, x):\n        # pass through first 2 convolutional layers with dropout\n        x = F.relu(F.max_pool2d(self.conv1(x), 2))\n        x = F.relu(F.max_pool2d(self.conv2_drop(self.conv2(x)), 2))\n\n        # flatten the image\n        x = x.view(-1, 320)\n\n        # pass through fully connected layers\n        x = F.relu(self.fc1(x))\n        x = F.dropout(x, training=self.training)\n        x = self.fc2(x)\n\n        # softmax for probability output\n        return F.log_softmax(x)",
   "metadata": {
    "cell_id": "db25f96a1cdb4696a7ac1586edf3ba31",
    "tags": [],
    "deepnote_to_be_reexecuted": false,
    "source_hash": "20ecb89b",
    "execution_start": 1653280028354,
    "execution_millis": 1,
    "deepnote_cell_type": "code",
    "deepnote_cell_height": 603
   },
   "outputs": [],
   "execution_count": null
  },
  {
   "cell_type": "code",
   "source": "def create_trainer():\n    network = Model()\n    optimizer = optim.SGD(network.parameters(), lr=learning_rate,\n                      momentum=momentum)\n    return network, optimizer",
   "metadata": {
    "cell_id": "d2783d0b45bc4ccfa085fbb67155e2ec",
    "tags": [],
    "deepnote_to_be_reexecuted": false,
    "source_hash": "4b4c338b",
    "execution_start": 1653280060429,
    "execution_millis": 6,
    "deepnote_cell_type": "code",
    "deepnote_cell_height": 153
   },
   "outputs": [],
   "execution_count": null
  },
  {
   "cell_type": "code",
   "source": "network, optimizer = create_trainer()",
   "metadata": {
    "cell_id": "dd567972f9cd46ddabe8bb36310d2c0e",
    "tags": [],
    "deepnote_to_be_reexecuted": false,
    "source_hash": "b53881f0",
    "execution_start": 1653280069070,
    "execution_millis": 5,
    "deepnote_cell_type": "code",
    "deepnote_cell_height": 81
   },
   "outputs": [],
   "execution_count": null
  },
  {
   "cell_type": "code",
   "source": "def train(epoch):\n    # set the network in training mode\n    network.train()\n\n    # for every batch of data, start optimizing\n    for batch_idx, (data, target) in enumerate(train_loader):\n        optimizer.zero_grad()\n        output = network(data)\n        # negative log likelihood loss\n        loss = F.nll_loss(output, target)\n        # backprop\n        loss.backward()\n        # optimize params\n        optimizer.step()\n\n        if batch_idx % log_interval == 0:\n            print('Train Epoch: {} [{}/{} ({:.0f}%)]\\tLoss: {:.6f}'.format(\n            epoch, batch_idx * len(data), len(train_loader.dataset),\n            100. * batch_idx / len(train_loader), loss.item()))",
   "metadata": {
    "cell_id": "87a28343f143424fae69668faf90c904",
    "tags": [],
    "deepnote_to_be_reexecuted": false,
    "source_hash": "8cbc2fe5",
    "execution_start": 1653281265010,
    "execution_millis": 1,
    "deepnote_cell_type": "code",
    "deepnote_cell_height": 405
   },
   "outputs": [],
   "execution_count": null
  },
  {
   "cell_type": "code",
   "source": "def test():\n    network.eval()\n    test_loss = 0\n    correct = 0\n    # dont store any gradients info\n    with torch.no_grad():\n        for data, target in test_loader:\n            output = network(data)\n            # negative log likelihood loss\n            test_loss += F.nll_loss(output, target, size_average=False).item()\n            pred = output.data.max(1, keepdim=True)[1]\n            correct += pred.eq(target.data.view_as(pred)).sum()\n    test_loss /= len(test_loader.dataset)\n    print('\\nTest set: Avg. loss: {:.4f}, Accuracy: {}/{} ({:.0f}%)\\n'.format(\n    test_loss, correct, len(test_loader.dataset),\n    100. * correct / len(test_loader.dataset)))",
   "metadata": {
    "cell_id": "e3394a94add64811bd6382e72fa840db",
    "tags": [],
    "deepnote_to_be_reexecuted": false,
    "source_hash": "c891f7d",
    "execution_start": 1653281255216,
    "execution_millis": 3,
    "deepnote_cell_type": "code",
    "deepnote_cell_height": 351
   },
   "outputs": [],
   "execution_count": null
  },
  {
   "cell_type": "code",
   "source": "# evaluate with random first for baseline\n\ntest()\n\nfor epoch in range(1, n_epochs + 1):\n    train(epoch)\n    test()",
   "metadata": {
    "cell_id": "c3546c1c374045a1bfccc39a712045dc",
    "tags": [],
    "deepnote_to_be_reexecuted": false,
    "source_hash": "2c1ae3bf",
    "execution_start": 1653280813507,
    "execution_millis": 132789,
    "deepnote_cell_type": "code",
    "deepnote_cell_height": 809
   },
   "outputs": [
    {
     "name": "stderr",
     "text": "/shared-libs/python3.7/py-core/lib/python3.7/site-packages/ipykernel_launcher.py:30: UserWarning: Implicit dimension choice for log_softmax has been deprecated. Change the call to include dim=X as an argument.\n/shared-libs/python3.7/py/lib/python3.7/site-packages/torch/nn/_reduction.py:42: UserWarning: size_average and reduce args will be deprecated, please use reduction='sum' instead.\n  warnings.warn(warning.format(ret))\n\nTest set: Avg. loss: 0.0908, Accuracy: 9719/10000 (97%)\n\nTrain Epoch: 1 [0/60000 (0%)]\tLoss: 0.273200\nTrain Epoch: 1 [640/60000 (1%)]\tLoss: 0.324515\nTrain Epoch: 1 [1280/60000 (2%)]\tLoss: 0.466650\nTrain Epoch: 1 [1920/60000 (3%)]\tLoss: 0.269811\nTrain Epoch: 1 [2560/60000 (4%)]\tLoss: 0.220295\nTrain Epoch: 1 [3200/60000 (5%)]\tLoss: 0.211383\nTrain Epoch: 1 [3840/60000 (6%)]\tLoss: 0.279689\nTrain Epoch: 1 [4480/60000 (7%)]\tLoss: 0.363167\nTrain Epoch: 1 [5120/60000 (9%)]\tLoss: 0.366629\nTrain Epoch: 1 [5760/60000 (10%)]\tLoss: 0.198417\nTrain Epoch: 1 [6400/60000 (11%)]\tLoss: 0.274358\nTrain Epoch: 1 [7040/60000 (12%)]\tLoss: 0.171952\nTrain Epoch: 1 [7680/60000 (13%)]\tLoss: 0.228493\nTrain Epoch: 1 [8320/60000 (14%)]\tLoss: 0.359502\nTrain Epoch: 1 [8960/60000 (15%)]\tLoss: 0.258690\nTrain Epoch: 1 [9600/60000 (16%)]\tLoss: 0.228545\nTrain Epoch: 1 [10240/60000 (17%)]\tLoss: 0.146320\nTrain Epoch: 1 [10880/60000 (18%)]\tLoss: 0.292606\nTrain Epoch: 1 [11520/60000 (19%)]\tLoss: 0.268255\nTrain Epoch: 1 [12160/60000 (20%)]\tLoss: 0.225070\nTrain Epoch: 1 [12800/60000 (21%)]\tLoss: 0.205212\nTrain Epoch: 1 [13440/60000 (22%)]\tLoss: 0.417882\nTrain Epoch: 1 [14080/60000 (23%)]\tLoss: 0.361079\nTrain Epoch: 1 [14720/60000 (25%)]\tLoss: 0.223005\nTrain Epoch: 1 [15360/60000 (26%)]\tLoss: 0.120558\nTrain Epoch: 1 [16000/60000 (27%)]\tLoss: 0.393236\nTrain Epoch: 1 [16640/60000 (28%)]\tLoss: 0.265663\nTrain Epoch: 1 [17280/60000 (29%)]\tLoss: 0.147211\nTrain Epoch: 1 [17920/60000 (30%)]\tLoss: 0.226050\nTrain Epoch: 1 [18560/60000 (31%)]\tLoss: 0.427512\nTrain Epoch: 1 [19200/60000 (32%)]\tLoss: 0.210155\nTrain Epoch: 1 [19840/60000 (33%)]\tLoss: 0.349846\nTrain Epoch: 1 [20480/60000 (34%)]\tLoss: 0.642796\nTrain Epoch: 1 [21120/60000 (35%)]\tLoss: 0.269927\nTrain Epoch: 1 [21760/60000 (36%)]\tLoss: 0.222158\nTrain Epoch: 1 [22400/60000 (37%)]\tLoss: 0.119191\nTrain Epoch: 1 [23040/60000 (38%)]\tLoss: 0.143789\nTrain Epoch: 1 [23680/60000 (39%)]\tLoss: 0.211260\nTrain Epoch: 1 [24320/60000 (41%)]\tLoss: 0.301007\nTrain Epoch: 1 [24960/60000 (42%)]\tLoss: 0.125282\nTrain Epoch: 1 [25600/60000 (43%)]\tLoss: 0.483043\nTrain Epoch: 1 [26240/60000 (44%)]\tLoss: 0.221402\nTrain Epoch: 1 [26880/60000 (45%)]\tLoss: 0.336080\nTrain Epoch: 1 [27520/60000 (46%)]\tLoss: 0.374434\nTrain Epoch: 1 [28160/60000 (47%)]\tLoss: 0.323963\nTrain Epoch: 1 [28800/60000 (48%)]\tLoss: 0.200800\nTrain Epoch: 1 [29440/60000 (49%)]\tLoss: 0.396378\nTrain Epoch: 1 [30080/60000 (50%)]\tLoss: 0.184985\nTrain Epoch: 1 [30720/60000 (51%)]\tLoss: 0.181507\nTrain Epoch: 1 [31360/60000 (52%)]\tLoss: 0.407669\nTrain Epoch: 1 [32000/60000 (53%)]\tLoss: 0.280975\nTrain Epoch: 1 [32640/60000 (54%)]\tLoss: 0.374150\nTrain Epoch: 1 [33280/60000 (55%)]\tLoss: 0.459547\nTrain Epoch: 1 [33920/60000 (57%)]\tLoss: 0.281257\nTrain Epoch: 1 [34560/60000 (58%)]\tLoss: 0.139506\nTrain Epoch: 1 [35200/60000 (59%)]\tLoss: 0.605059\nTrain Epoch: 1 [35840/60000 (60%)]\tLoss: 0.150198\nTrain Epoch: 1 [36480/60000 (61%)]\tLoss: 0.250176\nTrain Epoch: 1 [37120/60000 (62%)]\tLoss: 0.263403\nTrain Epoch: 1 [37760/60000 (63%)]\tLoss: 0.165532\nTrain Epoch: 1 [38400/60000 (64%)]\tLoss: 0.110396\nTrain Epoch: 1 [39040/60000 (65%)]\tLoss: 0.252296\nTrain Epoch: 1 [39680/60000 (66%)]\tLoss: 0.088597\nTrain Epoch: 1 [40320/60000 (67%)]\tLoss: 0.223564\nTrain Epoch: 1 [40960/60000 (68%)]\tLoss: 0.455437\nTrain Epoch: 1 [41600/60000 (69%)]\tLoss: 0.215017\nTrain Epoch: 1 [42240/60000 (70%)]\tLoss: 0.343551\nTrain Epoch: 1 [42880/60000 (71%)]\tLoss: 0.211023\nTrain Epoch: 1 [43520/60000 (72%)]\tLoss: 0.328939\nTrain Epoch: 1 [44160/60000 (74%)]\tLoss: 0.168815\nTrain Epoch: 1 [44800/60000 (75%)]\tLoss: 0.238489\nTrain Epoch: 1 [45440/60000 (76%)]\tLoss: 0.109592\nTrain Epoch: 1 [46080/60000 (77%)]\tLoss: 0.138149\nTrain Epoch: 1 [46720/60000 (78%)]\tLoss: 0.271727\nTrain Epoch: 1 [47360/60000 (79%)]\tLoss: 0.257376\nTrain Epoch: 1 [48000/60000 (80%)]\tLoss: 0.301351\nTrain Epoch: 1 [48640/60000 (81%)]\tLoss: 0.080389\nTrain Epoch: 1 [49280/60000 (82%)]\tLoss: 0.090488\nTrain Epoch: 1 [49920/60000 (83%)]\tLoss: 0.146390\nTrain Epoch: 1 [50560/60000 (84%)]\tLoss: 0.390468\nTrain Epoch: 1 [51200/60000 (85%)]\tLoss: 0.171436\nTrain Epoch: 1 [51840/60000 (86%)]\tLoss: 0.264488\nTrain Epoch: 1 [52480/60000 (87%)]\tLoss: 0.353656\nTrain Epoch: 1 [53120/60000 (88%)]\tLoss: 0.427102\nTrain Epoch: 1 [53760/60000 (90%)]\tLoss: 0.414685\nTrain Epoch: 1 [54400/60000 (91%)]\tLoss: 0.310779\nTrain Epoch: 1 [55040/60000 (92%)]\tLoss: 0.266442\nTrain Epoch: 1 [55680/60000 (93%)]\tLoss: 0.383620\nTrain Epoch: 1 [56320/60000 (94%)]\tLoss: 0.280804\nTrain Epoch: 1 [56960/60000 (95%)]\tLoss: 0.164607\nTrain Epoch: 1 [57600/60000 (96%)]\tLoss: 0.343245\nTrain Epoch: 1 [58240/60000 (97%)]\tLoss: 0.243968\nTrain Epoch: 1 [58880/60000 (98%)]\tLoss: 0.449510\nTrain Epoch: 1 [59520/60000 (99%)]\tLoss: 0.239615\n\nTest set: Avg. loss: 0.0798, Accuracy: 9741/10000 (97%)\n\nTrain Epoch: 2 [0/60000 (0%)]\tLoss: 0.253152\nTrain Epoch: 2 [640/60000 (1%)]\tLoss: 0.221858\nTrain Epoch: 2 [1280/60000 (2%)]\tLoss: 0.165289\nTrain Epoch: 2 [1920/60000 (3%)]\tLoss: 0.272352\nTrain Epoch: 2 [2560/60000 (4%)]\tLoss: 0.276476\nTrain Epoch: 2 [3200/60000 (5%)]\tLoss: 0.340989\nTrain Epoch: 2 [3840/60000 (6%)]\tLoss: 0.155074\nTrain Epoch: 2 [4480/60000 (7%)]\tLoss: 0.102564\nTrain Epoch: 2 [5120/60000 (9%)]\tLoss: 0.318771\nTrain Epoch: 2 [5760/60000 (10%)]\tLoss: 0.159800\nTrain Epoch: 2 [6400/60000 (11%)]\tLoss: 0.131170\nTrain Epoch: 2 [7040/60000 (12%)]\tLoss: 0.217169\nTrain Epoch: 2 [7680/60000 (13%)]\tLoss: 0.227140\nTrain Epoch: 2 [8320/60000 (14%)]\tLoss: 0.152879\nTrain Epoch: 2 [8960/60000 (15%)]\tLoss: 0.306076\nTrain Epoch: 2 [9600/60000 (16%)]\tLoss: 0.253796\nTrain Epoch: 2 [10240/60000 (17%)]\tLoss: 0.287110\nTrain Epoch: 2 [10880/60000 (18%)]\tLoss: 0.218865\nTrain Epoch: 2 [11520/60000 (19%)]\tLoss: 0.286698\nTrain Epoch: 2 [12160/60000 (20%)]\tLoss: 0.259507\nTrain Epoch: 2 [12800/60000 (21%)]\tLoss: 0.118762\nTrain Epoch: 2 [13440/60000 (22%)]\tLoss: 0.192469\nTrain Epoch: 2 [14080/60000 (23%)]\tLoss: 0.264843\nTrain Epoch: 2 [14720/60000 (25%)]\tLoss: 0.299971\nTrain Epoch: 2 [15360/60000 (26%)]\tLoss: 0.221216\nTrain Epoch: 2 [16000/60000 (27%)]\tLoss: 0.259898\nTrain Epoch: 2 [16640/60000 (28%)]\tLoss: 0.135718\nTrain Epoch: 2 [17280/60000 (29%)]\tLoss: 0.211009\nTrain Epoch: 2 [17920/60000 (30%)]\tLoss: 0.210059\nTrain Epoch: 2 [18560/60000 (31%)]\tLoss: 0.246262\nTrain Epoch: 2 [19200/60000 (32%)]\tLoss: 0.262490\nTrain Epoch: 2 [19840/60000 (33%)]\tLoss: 0.259070\nTrain Epoch: 2 [20480/60000 (34%)]\tLoss: 0.376277\nTrain Epoch: 2 [21120/60000 (35%)]\tLoss: 0.282706\nTrain Epoch: 2 [21760/60000 (36%)]\tLoss: 0.319286\nTrain Epoch: 2 [22400/60000 (37%)]\tLoss: 0.279641\nTrain Epoch: 2 [23040/60000 (38%)]\tLoss: 0.333550\nTrain Epoch: 2 [23680/60000 (39%)]\tLoss: 0.167939\nTrain Epoch: 2 [24320/60000 (41%)]\tLoss: 0.183802\nTrain Epoch: 2 [24960/60000 (42%)]\tLoss: 0.234637\nTrain Epoch: 2 [25600/60000 (43%)]\tLoss: 0.402743\nTrain Epoch: 2 [26240/60000 (44%)]\tLoss: 0.416582\nTrain Epoch: 2 [26880/60000 (45%)]\tLoss: 0.084762\nTrain Epoch: 2 [27520/60000 (46%)]\tLoss: 0.326810\nTrain Epoch: 2 [28160/60000 (47%)]\tLoss: 0.099836\nTrain Epoch: 2 [28800/60000 (48%)]\tLoss: 0.364363\nTrain Epoch: 2 [29440/60000 (49%)]\tLoss: 0.282491\nTrain Epoch: 2 [30080/60000 (50%)]\tLoss: 0.213981\nTrain Epoch: 2 [30720/60000 (51%)]\tLoss: 0.323337\nTrain Epoch: 2 [31360/60000 (52%)]\tLoss: 0.492720\nTrain Epoch: 2 [32000/60000 (53%)]\tLoss: 0.253769\nTrain Epoch: 2 [32640/60000 (54%)]\tLoss: 0.234836\nTrain Epoch: 2 [33280/60000 (55%)]\tLoss: 0.083834\nTrain Epoch: 2 [33920/60000 (57%)]\tLoss: 0.148698\nTrain Epoch: 2 [34560/60000 (58%)]\tLoss: 0.187648\nTrain Epoch: 2 [35200/60000 (59%)]\tLoss: 0.230512\nTrain Epoch: 2 [35840/60000 (60%)]\tLoss: 0.298847\nTrain Epoch: 2 [36480/60000 (61%)]\tLoss: 0.077367\nTrain Epoch: 2 [37120/60000 (62%)]\tLoss: 0.399660\nTrain Epoch: 2 [37760/60000 (63%)]\tLoss: 0.241859\nTrain Epoch: 2 [38400/60000 (64%)]\tLoss: 0.077177\nTrain Epoch: 2 [39040/60000 (65%)]\tLoss: 0.283717\nTrain Epoch: 2 [39680/60000 (66%)]\tLoss: 0.171902\nTrain Epoch: 2 [40320/60000 (67%)]\tLoss: 0.446020\nTrain Epoch: 2 [40960/60000 (68%)]\tLoss: 0.194768\nTrain Epoch: 2 [41600/60000 (69%)]\tLoss: 0.216289\nTrain Epoch: 2 [42240/60000 (70%)]\tLoss: 0.237577\nTrain Epoch: 2 [42880/60000 (71%)]\tLoss: 0.313671\nTrain Epoch: 2 [43520/60000 (72%)]\tLoss: 0.201595\nTrain Epoch: 2 [44160/60000 (74%)]\tLoss: 0.154761\nTrain Epoch: 2 [44800/60000 (75%)]\tLoss: 0.254435\nTrain Epoch: 2 [45440/60000 (76%)]\tLoss: 0.266156\nTrain Epoch: 2 [46080/60000 (77%)]\tLoss: 0.207428\nTrain Epoch: 2 [46720/60000 (78%)]\tLoss: 0.248872\nTrain Epoch: 2 [47360/60000 (79%)]\tLoss: 0.349552\nTrain Epoch: 2 [48000/60000 (80%)]\tLoss: 0.260667\nTrain Epoch: 2 [48640/60000 (81%)]\tLoss: 0.226572\nTrain Epoch: 2 [49280/60000 (82%)]\tLoss: 0.121999\nTrain Epoch: 2 [49920/60000 (83%)]\tLoss: 0.202875\nTrain Epoch: 2 [50560/60000 (84%)]\tLoss: 0.139973\nTrain Epoch: 2 [51200/60000 (85%)]\tLoss: 0.252023\nTrain Epoch: 2 [51840/60000 (86%)]\tLoss: 0.789330\nTrain Epoch: 2 [52480/60000 (87%)]\tLoss: 0.276219\nTrain Epoch: 2 [53120/60000 (88%)]\tLoss: 0.163699\nTrain Epoch: 2 [53760/60000 (90%)]\tLoss: 0.367044\nTrain Epoch: 2 [54400/60000 (91%)]\tLoss: 0.083560\nTrain Epoch: 2 [55040/60000 (92%)]\tLoss: 0.113949\nTrain Epoch: 2 [55680/60000 (93%)]\tLoss: 0.165248\nTrain Epoch: 2 [56320/60000 (94%)]\tLoss: 0.325455\nTrain Epoch: 2 [56960/60000 (95%)]\tLoss: 0.197919\nTrain Epoch: 2 [57600/60000 (96%)]\tLoss: 0.115902\nTrain Epoch: 2 [58240/60000 (97%)]\tLoss: 0.150982\nTrain Epoch: 2 [58880/60000 (98%)]\tLoss: 0.178421\nTrain Epoch: 2 [59520/60000 (99%)]\tLoss: 0.156986\n\nTest set: Avg. loss: 0.0712, Accuracy: 9776/10000 (98%)\n\nTrain Epoch: 3 [0/60000 (0%)]\tLoss: 0.121486\nTrain Epoch: 3 [640/60000 (1%)]\tLoss: 0.122151\nTrain Epoch: 3 [1280/60000 (2%)]\tLoss: 0.213131\nTrain Epoch: 3 [1920/60000 (3%)]\tLoss: 0.340420\nTrain Epoch: 3 [2560/60000 (4%)]\tLoss: 0.233314\nTrain Epoch: 3 [3200/60000 (5%)]\tLoss: 0.240710\nTrain Epoch: 3 [3840/60000 (6%)]\tLoss: 0.235148\nTrain Epoch: 3 [4480/60000 (7%)]\tLoss: 0.204516\nTrain Epoch: 3 [5120/60000 (9%)]\tLoss: 0.410587\nTrain Epoch: 3 [5760/60000 (10%)]\tLoss: 0.242842\nTrain Epoch: 3 [6400/60000 (11%)]\tLoss: 0.306090\nTrain Epoch: 3 [7040/60000 (12%)]\tLoss: 0.167947\nTrain Epoch: 3 [7680/60000 (13%)]\tLoss: 0.185279\nTrain Epoch: 3 [8320/60000 (14%)]\tLoss: 0.462092\nTrain Epoch: 3 [8960/60000 (15%)]\tLoss: 0.154409\nTrain Epoch: 3 [9600/60000 (16%)]\tLoss: 0.353431\nTrain Epoch: 3 [10240/60000 (17%)]\tLoss: 0.151566\nTrain Epoch: 3 [10880/60000 (18%)]\tLoss: 0.215922\nTrain Epoch: 3 [11520/60000 (19%)]\tLoss: 0.283965\nTrain Epoch: 3 [12160/60000 (20%)]\tLoss: 0.417213\nTrain Epoch: 3 [12800/60000 (21%)]\tLoss: 0.312578\nTrain Epoch: 3 [13440/60000 (22%)]\tLoss: 0.330204\nTrain Epoch: 3 [14080/60000 (23%)]\tLoss: 0.208761\nTrain Epoch: 3 [14720/60000 (25%)]\tLoss: 0.280041\nTrain Epoch: 3 [15360/60000 (26%)]\tLoss: 0.249701\nTrain Epoch: 3 [16000/60000 (27%)]\tLoss: 0.090181\nTrain Epoch: 3 [16640/60000 (28%)]\tLoss: 0.135060\nTrain Epoch: 3 [17280/60000 (29%)]\tLoss: 0.204672\nTrain Epoch: 3 [17920/60000 (30%)]\tLoss: 0.371704\nTrain Epoch: 3 [18560/60000 (31%)]\tLoss: 0.152589\nTrain Epoch: 3 [19200/60000 (32%)]\tLoss: 0.231196\nTrain Epoch: 3 [19840/60000 (33%)]\tLoss: 0.290632\nTrain Epoch: 3 [20480/60000 (34%)]\tLoss: 0.276634\nTrain Epoch: 3 [21120/60000 (35%)]\tLoss: 0.113474\nTrain Epoch: 3 [21760/60000 (36%)]\tLoss: 0.251769\nTrain Epoch: 3 [22400/60000 (37%)]\tLoss: 0.105469\nTrain Epoch: 3 [23040/60000 (38%)]\tLoss: 0.117830\nTrain Epoch: 3 [23680/60000 (39%)]\tLoss: 0.243573\nTrain Epoch: 3 [24320/60000 (41%)]\tLoss: 0.120270\nTrain Epoch: 3 [24960/60000 (42%)]\tLoss: 0.109469\nTrain Epoch: 3 [25600/60000 (43%)]\tLoss: 0.368110\nTrain Epoch: 3 [26240/60000 (44%)]\tLoss: 0.242309\nTrain Epoch: 3 [26880/60000 (45%)]\tLoss: 0.074477\nTrain Epoch: 3 [27520/60000 (46%)]\tLoss: 0.304199\nTrain Epoch: 3 [28160/60000 (47%)]\tLoss: 0.372690\nTrain Epoch: 3 [28800/60000 (48%)]\tLoss: 0.183550\nTrain Epoch: 3 [29440/60000 (49%)]\tLoss: 0.186541\nTrain Epoch: 3 [30080/60000 (50%)]\tLoss: 0.160699\nTrain Epoch: 3 [30720/60000 (51%)]\tLoss: 0.477638\nTrain Epoch: 3 [31360/60000 (52%)]\tLoss: 0.282125\nTrain Epoch: 3 [32000/60000 (53%)]\tLoss: 0.116248\nTrain Epoch: 3 [32640/60000 (54%)]\tLoss: 0.167691\nTrain Epoch: 3 [33280/60000 (55%)]\tLoss: 0.247938\nTrain Epoch: 3 [33920/60000 (57%)]\tLoss: 0.279137\nTrain Epoch: 3 [34560/60000 (58%)]\tLoss: 0.177710\nTrain Epoch: 3 [35200/60000 (59%)]\tLoss: 0.191763\nTrain Epoch: 3 [35840/60000 (60%)]\tLoss: 0.235632\nTrain Epoch: 3 [36480/60000 (61%)]\tLoss: 0.161387\nTrain Epoch: 3 [37120/60000 (62%)]\tLoss: 0.275439\nTrain Epoch: 3 [37760/60000 (63%)]\tLoss: 0.192579\nTrain Epoch: 3 [38400/60000 (64%)]\tLoss: 0.416064\nTrain Epoch: 3 [39040/60000 (65%)]\tLoss: 0.139210\nTrain Epoch: 3 [39680/60000 (66%)]\tLoss: 0.250210\nTrain Epoch: 3 [40320/60000 (67%)]\tLoss: 0.342726\nTrain Epoch: 3 [40960/60000 (68%)]\tLoss: 0.251365\nTrain Epoch: 3 [41600/60000 (69%)]\tLoss: 0.175845\nTrain Epoch: 3 [42240/60000 (70%)]\tLoss: 0.156929\nTrain Epoch: 3 [42880/60000 (71%)]\tLoss: 0.219497\nTrain Epoch: 3 [43520/60000 (72%)]\tLoss: 0.252447\nTrain Epoch: 3 [44160/60000 (74%)]\tLoss: 0.301666\nTrain Epoch: 3 [44800/60000 (75%)]\tLoss: 0.239276\nTrain Epoch: 3 [45440/60000 (76%)]\tLoss: 0.443242\nTrain Epoch: 3 [46080/60000 (77%)]\tLoss: 0.224034\nTrain Epoch: 3 [46720/60000 (78%)]\tLoss: 0.227593\nTrain Epoch: 3 [47360/60000 (79%)]\tLoss: 0.437808\nTrain Epoch: 3 [48000/60000 (80%)]\tLoss: 0.192298\nTrain Epoch: 3 [48640/60000 (81%)]\tLoss: 0.173459\nTrain Epoch: 3 [49280/60000 (82%)]\tLoss: 0.155110\nTrain Epoch: 3 [49920/60000 (83%)]\tLoss: 0.261871\nTrain Epoch: 3 [50560/60000 (84%)]\tLoss: 0.298211\nTrain Epoch: 3 [51200/60000 (85%)]\tLoss: 0.094752\nTrain Epoch: 3 [51840/60000 (86%)]\tLoss: 0.166580\nTrain Epoch: 3 [52480/60000 (87%)]\tLoss: 0.085576\nTrain Epoch: 3 [53120/60000 (88%)]\tLoss: 0.090407\nTrain Epoch: 3 [53760/60000 (90%)]\tLoss: 0.095737\nTrain Epoch: 3 [54400/60000 (91%)]\tLoss: 0.202822\nTrain Epoch: 3 [55040/60000 (92%)]\tLoss: 0.413783\nTrain Epoch: 3 [55680/60000 (93%)]\tLoss: 0.134790\nTrain Epoch: 3 [56320/60000 (94%)]\tLoss: 0.139504\nTrain Epoch: 3 [56960/60000 (95%)]\tLoss: 0.129172\nTrain Epoch: 3 [57600/60000 (96%)]\tLoss: 0.185361\nTrain Epoch: 3 [58240/60000 (97%)]\tLoss: 0.260258\nTrain Epoch: 3 [58880/60000 (98%)]\tLoss: 0.194477\nTrain Epoch: 3 [59520/60000 (99%)]\tLoss: 0.161052\n\nTest set: Avg. loss: 0.0680, Accuracy: 9771/10000 (98%)\n\n",
     "output_type": "stream"
    }
   ],
   "execution_count": null
  },
  {
   "cell_type": "code",
   "source": "def inspect_network(dataloader):\n    examples = enumerate(dataloader)\n    batch_idx, (example_data, example_targets) = next(examples)\n    with torch.no_grad():\n        output = network(example_data)\n        fig = plt.figure()\n        for i in range(6):\n            plt.subplot(2,3,i+1)\n            plt.tight_layout()\n            plt.imshow(example_data[i][0], cmap='gray', interpolation='none')\n            plt.title(\"Prediction: {}\".format(\n                output.data.max(1, keepdim=True)[1][i].item()))\n            plt.xticks([])\n            plt.yticks([])\n        fig",
   "metadata": {
    "cell_id": "c47e6f0fd83f481887fbb00bfbb35d93",
    "tags": [],
    "deepnote_to_be_reexecuted": false,
    "source_hash": "5a149bae",
    "execution_start": 1653281354586,
    "execution_millis": 6,
    "deepnote_cell_type": "code",
    "deepnote_cell_height": 333
   },
   "outputs": [],
   "execution_count": null
  },
  {
   "cell_type": "code",
   "source": "inspect_network(test_loader)",
   "metadata": {
    "cell_id": "5dfe0cbae5e3426fbc0bdd398f292538",
    "tags": [],
    "deepnote_to_be_reexecuted": false,
    "source_hash": "e3b55560",
    "execution_start": 1653281364125,
    "execution_millis": 1426,
    "deepnote_cell_type": "code",
    "deepnote_cell_height": 416.1875,
    "deepnote_output_heights": [
     null,
     269
    ]
   },
   "outputs": [
    {
     "name": "stderr",
     "text": "/shared-libs/python3.7/py-core/lib/python3.7/site-packages/ipykernel_launcher.py:30: UserWarning: Implicit dimension choice for log_softmax has been deprecated. Change the call to include dim=X as an argument.\n",
     "output_type": "stream"
    },
    {
     "data": {
      "text/plain": "<Figure size 432x288 with 6 Axes>",
      "image/png": "[encoded data removed]"
     },
     "metadata": {
      "image/png": {
       "width": 404,
       "height": 267
      }
     },
     "output_type": "display_data"
    }
   ],
   "execution_count": null
  },
  {
   "cell_type": "code",
   "source": "torch.save(network.state_dict(), \"/model\")",
   "metadata": {
    "cell_id": "620be52f64724a46a9e692b694eae239",
    "tags": [],
    "owner_user_id": "eff55c71-5550-4e3d-abb7-61078ec1a7a1",
    "deepnote_to_be_reexecuted": false,
    "source_hash": "58eee855",
    "execution_start": 1653281458423,
    "execution_millis": 7,
    "deepnote_cell_type": "code",
    "deepnote_cell_height": 81
   },
   "outputs": [],
   "execution_count": null
  },
  {
   "cell_type": "markdown",
   "source": "<a style='text-decoration:none;line-height:16px;display:flex;color:#5B5B62;padding:10px;justify-content:end;' href='https://deepnote.com?utm_source=created-in-deepnote-cell&projectId=c58d706a-64e6-4bb8-b6a7-299639e5deaa' target=\"_blank\">\n<img alt='Created in deepnote.com' style='display:inline;max-height:16px;margin:0px;margin-right:7.5px;' src='data:image/svg+xml;base64,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' > </img>\nCreated in <span style='font-weight:600;margin-left:4px;'>Deepnote</span></a>",
   "metadata": {
    "tags": [],
    "created_in_deepnote_cell": true,
    "deepnote_cell_type": "markdown"
   }
  }
 ],
 "nbformat": 4,
 "nbformat_minor": 2,
 "metadata": {
  "orig_nbformat": 2,
  "deepnote": {},
  "deepnote_notebook_id": "33cde898-7a8d-4f24-8359-a1bb33feb896",
  "deepnote_execution_queue": []
 }
}