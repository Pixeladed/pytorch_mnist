{
 "cells": [
  {
   "cell_type": "markdown",
   "metadata": {},
   "source": [
    "## Install libraries and import utilities"
   ]
  },
  {
   "cell_type": "code",
   "execution_count": 1,
   "metadata": {
    "cell_id": "3efd3ab9-c3fd-4300-a901-d5b0308394ca",
    "deepnote_cell_height": 383.25,
    "deepnote_cell_type": "code",
    "deepnote_to_be_reexecuted": false,
    "execution_millis": 4364,
    "execution_start": 1653279277466,
    "source_hash": "7702f785",
    "tags": []
   },
   "outputs": [
    {
     "name": "stdout",
     "output_type": "stream",
     "text": [
      "\u001b[33mDEPRECATION: Configuring installation scheme with distutils config files is deprecated and will no longer work in the near future. If you are using a Homebrew or Linuxbrew Python, please see discussion at https://github.com/Homebrew/homebrew-core/issues/76621\u001b[0m\u001b[33m\n",
      "\u001b[0mRequirement already satisfied: torch in /usr/local/lib/python3.9/site-packages (1.11.0)\n",
      "Requirement already satisfied: torchvision in /usr/local/lib/python3.9/site-packages (0.12.0)\n",
      "Requirement already satisfied: matplotlib in /usr/local/lib/python3.9/site-packages (3.5.2)\n",
      "Requirement already satisfied: typing-extensions in /usr/local/lib/python3.9/site-packages (from torch) (4.2.0)\n",
      "Requirement already satisfied: numpy in /usr/local/lib/python3.9/site-packages (from torchvision) (1.22.4)\n",
      "Requirement already satisfied: pillow!=8.3.*,>=5.3.0 in /usr/local/lib/python3.9/site-packages (from torchvision) (9.1.1)\n",
      "Requirement already satisfied: requests in /usr/local/lib/python3.9/site-packages (from torchvision) (2.27.1)\n",
      "Requirement already satisfied: pyparsing>=2.2.1 in /usr/local/lib/python3.9/site-packages (from matplotlib) (3.0.9)\n",
      "Requirement already satisfied: fonttools>=4.22.0 in /usr/local/lib/python3.9/site-packages (from matplotlib) (4.33.3)\n",
      "Requirement already satisfied: packaging>=20.0 in /usr/local/lib/python3.9/site-packages (from matplotlib) (21.3)\n",
      "Requirement already satisfied: cycler>=0.10 in /usr/local/lib/python3.9/site-packages (from matplotlib) (0.11.0)\n",
      "Requirement already satisfied: kiwisolver>=1.0.1 in /usr/local/lib/python3.9/site-packages (from matplotlib) (1.4.2)\n",
      "Requirement already satisfied: python-dateutil>=2.7 in /usr/local/lib/python3.9/site-packages (from matplotlib) (2.8.2)\n",
      "Requirement already satisfied: six>=1.5 in /usr/local/lib/python3.9/site-packages (from python-dateutil>=2.7->matplotlib) (1.16.0)\n",
      "Requirement already satisfied: urllib3<1.27,>=1.21.1 in /usr/local/lib/python3.9/site-packages (from requests->torchvision) (1.26.9)\n",
      "Requirement already satisfied: certifi>=2017.4.17 in /usr/local/lib/python3.9/site-packages (from requests->torchvision) (2022.5.18.1)\n",
      "Requirement already satisfied: idna<4,>=2.5 in /usr/local/lib/python3.9/site-packages (from requests->torchvision) (3.3)\n",
      "Requirement already satisfied: charset-normalizer~=2.0.0 in /usr/local/lib/python3.9/site-packages (from requests->torchvision) (2.0.12)\n",
      "\u001b[33mDEPRECATION: Configuring installation scheme with distutils config files is deprecated and will no longer work in the near future. If you are using a Homebrew or Linuxbrew Python, please see discussion at https://github.com/Homebrew/homebrew-core/issues/76621\u001b[0m\u001b[33m\n",
      "\u001b[0m"
     ]
    }
   ],
   "source": [
    "!pip install torch torchvision matplotlib"
   ]
  },
  {
   "cell_type": "code",
   "execution_count": 2,
   "metadata": {
    "cell_id": "002b05117e5b4d40a33473cb86df1ed4",
    "deepnote_cell_height": 117,
    "deepnote_cell_type": "code",
    "deepnote_to_be_reexecuted": false,
    "execution_millis": 2142,
    "execution_start": 1653279406631,
    "source_hash": "8b7c0b6c",
    "tags": []
   },
   "outputs": [],
   "source": [
    "import torch \n",
    "import torchvision\n",
    "import matplotlib.pyplot as plt"
   ]
  },
  {
   "cell_type": "markdown",
   "metadata": {},
   "source": [
    "## Global parameters"
   ]
  },
  {
   "cell_type": "code",
   "execution_count": 23,
   "metadata": {
    "cell_id": "4901f9439fbe41d7a4e482bd600a21f4",
    "deepnote_cell_height": 298.1875,
    "deepnote_cell_type": "code",
    "deepnote_output_heights": [
     21.1875
    ],
    "deepnote_to_be_reexecuted": false,
    "execution_millis": 22,
    "execution_start": 1653279577007,
    "source_hash": "d073f19",
    "tags": []
   },
   "outputs": [],
   "source": [
    "# params\n",
    "n_epochs = 3\n",
    "batch_size_train = 64\n",
    "batch_size_test = 1000\n",
    "learning_rate = 0.01\n",
    "momentum = 0.5\n",
    "log_interval = 10\n",
    "\n",
    "seed = 1\n",
    "torch.backends.cudnn.enabled = False\n",
    "torch.manual_seed(seed)\n",
    "\n",
    "FILES_DIR = \"./files\""
   ]
  },
  {
   "cell_type": "code",
   "execution_count": 4,
   "metadata": {
    "cell_id": "956828d0ee574e68abf663ddb7fa5f72",
    "deepnote_cell_height": 153,
    "deepnote_cell_type": "code",
    "deepnote_to_be_reexecuted": false,
    "execution_millis": 5,
    "execution_start": 1653279588198,
    "source_hash": "5580e159",
    "tags": []
   },
   "outputs": [],
   "source": [
    "def create_transformer():\n",
    "    return torchvision.transforms.Compose([\n",
    "        torchvision.transforms.ToTensor(),\n",
    "        torchvision.transforms.Normalize((0.1307,), (0.3081,))\n",
    "    ])"
   ]
  },
  {
   "cell_type": "code",
   "execution_count": 8,
   "metadata": {
    "cell_id": "ca13d224283545718ac23aa465722dc4",
    "deepnote_cell_height": 279,
    "deepnote_cell_type": "code",
    "deepnote_to_be_reexecuted": false,
    "execution_millis": 3,
    "execution_start": 1653279589838,
    "source_hash": "9e83b3c4",
    "tags": []
   },
   "outputs": [],
   "source": [
    "def create_dataloader(transformer):\n",
    "    train_loader = torch.utils.data.DataLoader(\n",
    "        torchvision.datasets.MNIST(FILES_DIR, train=True, download=True, transform=transformer),\n",
    "        batch_size=batch_size_train,\n",
    "        shuffle=True\n",
    "    )\n",
    "    test_loader = torch.utils.data.DataLoader(\n",
    "        torchvision.datasets.MNIST(FILES_DIR, train=False, download=True, transform=transformer),\n",
    "        batch_size=batch_size_test,\n",
    "        shuffle=True\n",
    "    )\n",
    "    return train_loader, test_loader"
   ]
  },
  {
   "cell_type": "code",
   "execution_count": 9,
   "metadata": {
    "cell_id": "1752d1918faf4fed8774d0acf4285cf9",
    "deepnote_cell_height": 297,
    "deepnote_cell_type": "code",
    "deepnote_to_be_reexecuted": false,
    "execution_millis": 1,
    "execution_start": 1653279594090,
    "source_hash": "f748e706",
    "tags": []
   },
   "outputs": [],
   "source": [
    "def inspect_dataset(dataloader):\n",
    "    examples = enumerate(dataloader)\n",
    "    batch_idx, (example_data, example_targets) = next(examples)\n",
    "\n",
    "    fig = plt.figure()\n",
    "    for i in range(6):\n",
    "        plt.subplot(2,3,i+1)\n",
    "        plt.tight_layout()\n",
    "        plt.imshow(example_data[i][0], cmap='gray', interpolation='none')\n",
    "        plt.title(\"Ground Truth: {}\".format(example_targets[i]))\n",
    "        plt.xticks([])\n",
    "        plt.yticks([])\n",
    "    fig"
   ]
  },
  {
   "cell_type": "code",
   "execution_count": 10,
   "metadata": {
    "cell_id": "b1e3e6811b4c4366b4383bd83274e113",
    "deepnote_cell_height": 402,
    "deepnote_cell_type": "code",
    "deepnote_output_heights": [
     269
    ],
    "deepnote_to_be_reexecuted": false,
    "execution_millis": 893,
    "execution_start": 1653279621141,
    "source_hash": "55b818b5",
    "tags": []
   },
   "outputs": [
    {
     "name": "stdout",
     "output_type": "stream",
     "text": [
      "Downloading http://yann.lecun.com/exdb/mnist/train-images-idx3-ubyte.gz\n"
     ]
    },
    {
     "name": "stderr",
     "output_type": "stream",
     "text": [
      "1.1%"
     ]
    },
    {
     "name": "stdout",
     "output_type": "stream",
     "text": [
      "Downloading http://yann.lecun.com/exdb/mnist/train-images-idx3-ubyte.gz to ./files/MNIST/raw/train-images-idx3-ubyte.gz\n"
     ]
    },
    {
     "name": "stderr",
     "output_type": "stream",
     "text": [
      "100.0%\n"
     ]
    },
    {
     "name": "stdout",
     "output_type": "stream",
     "text": [
      "Extracting ./files/MNIST/raw/train-images-idx3-ubyte.gz to ./files/MNIST/raw\n"
     ]
    },
    {
     "name": "stderr",
     "output_type": "stream",
     "text": [
      "81.5%"
     ]
    },
    {
     "name": "stdout",
     "output_type": "stream",
     "text": [
      "\n",
      "Downloading http://yann.lecun.com/exdb/mnist/train-labels-idx1-ubyte.gz\n",
      "Downloading http://yann.lecun.com/exdb/mnist/train-labels-idx1-ubyte.gz to ./files/MNIST/raw/train-labels-idx1-ubyte.gz\n"
     ]
    },
    {
     "name": "stderr",
     "output_type": "stream",
     "text": [
      "102.8%\n",
      "1.9%"
     ]
    },
    {
     "name": "stdout",
     "output_type": "stream",
     "text": [
      "Extracting ./files/MNIST/raw/train-labels-idx1-ubyte.gz to ./files/MNIST/raw\n",
      "\n",
      "Downloading http://yann.lecun.com/exdb/mnist/t10k-images-idx3-ubyte.gz\n",
      "Downloading http://yann.lecun.com/exdb/mnist/t10k-images-idx3-ubyte.gz to ./files/MNIST/raw/t10k-images-idx3-ubyte.gz\n"
     ]
    },
    {
     "name": "stderr",
     "output_type": "stream",
     "text": [
      "100.0%\n"
     ]
    },
    {
     "name": "stdout",
     "output_type": "stream",
     "text": [
      "Extracting ./files/MNIST/raw/t10k-images-idx3-ubyte.gz to ./files/MNIST/raw\n",
      "\n",
      "Downloading http://yann.lecun.com/exdb/mnist/t10k-labels-idx1-ubyte.gz\n"
     ]
    },
    {
     "name": "stderr",
     "output_type": "stream",
     "text": [
      "112.7%"
     ]
    },
    {
     "name": "stdout",
     "output_type": "stream",
     "text": [
      "Downloading http://yann.lecun.com/exdb/mnist/t10k-labels-idx1-ubyte.gz to ./files/MNIST/raw/t10k-labels-idx1-ubyte.gz\n",
      "Extracting ./files/MNIST/raw/t10k-labels-idx1-ubyte.gz to ./files/MNIST/raw\n",
      "\n"
     ]
    },
    {
     "name": "stderr",
     "output_type": "stream",
     "text": [
      "\n"
     ]
    },
    {
     "data": {
      "image/png": "[encoded data removed]",
      "text/plain": [
       "<Figure size 432x288 with 6 Axes>"
      ]
     },
     "metadata": {},
     "output_type": "display_data"
    }
   ],
   "source": [
    "transformer = create_transformer()\n",
    "train_loader, test_loader = create_dataloader(transformer)\n",
    "inspect_dataset(test_loader)"
   ]
  },
  {
   "cell_type": "markdown",
   "metadata": {
    "cell_id": "359df427ea6d466a9e121577b98c893b",
    "deepnote_cell_type": "text-cell-h2",
    "is_collapsed": false,
    "tags": []
   },
   "source": [
    "## Model"
   ]
  },
  {
   "cell_type": "code",
   "execution_count": 11,
   "metadata": {
    "cell_id": "ff62d30ca82a4c6eb2918f6d64d44027",
    "deepnote_cell_height": 117,
    "deepnote_cell_type": "code",
    "deepnote_to_be_reexecuted": false,
    "execution_millis": 9,
    "execution_start": 1653279627759,
    "source_hash": "f5b28f49",
    "tags": []
   },
   "outputs": [],
   "source": [
    "import torch.nn as nn\n",
    "import torch.nn.functional as F\n",
    "import torch.optim as optim"
   ]
  },
  {
   "cell_type": "code",
   "execution_count": 12,
   "metadata": {
    "cell_id": "db25f96a1cdb4696a7ac1586edf3ba31",
    "deepnote_cell_height": 603,
    "deepnote_cell_type": "code",
    "deepnote_to_be_reexecuted": false,
    "execution_millis": 1,
    "execution_start": 1653280028354,
    "source_hash": "20ecb89b",
    "tags": []
   },
   "outputs": [],
   "source": [
    "class Model(nn.Module):\n",
    "    def __init__(self):\n",
    "        super(Model, self).__init__()\n",
    "\n",
    "        # 2 convolutional layers\n",
    "        self.conv1 = nn.Conv2d(1, 10, kernel_size=5)\n",
    "        self.conv2 = nn.Conv2d(10, 20, kernel_size=5)\n",
    "\n",
    "        # a dropout layer for generalization\n",
    "        self.conv2_drop = nn.Dropout2d()\n",
    "\n",
    "        # 2 fully connected layers for predictions\n",
    "        self.fc1 = nn.Linear(320, 50)\n",
    "        self.fc2 = nn.Linear(50, 10)\n",
    "\n",
    "    def forward(self, x):\n",
    "        # pass through first 2 convolutional layers with dropout\n",
    "        x = F.relu(F.max_pool2d(self.conv1(x), 2))\n",
    "        x = F.relu(F.max_pool2d(self.conv2_drop(self.conv2(x)), 2))\n",
    "\n",
    "        # flatten the image\n",
    "        x = x.view(-1, 320)\n",
    "\n",
    "        # pass through fully connected layers\n",
    "        x = F.relu(self.fc1(x))\n",
    "        x = F.dropout(x, training=self.training)\n",
    "        x = self.fc2(x)\n",
    "\n",
    "        # softmax for probability output\n",
    "        return F.log_softmax(x)"
   ]
  },
  {
   "cell_type": "code",
   "execution_count": 13,
   "metadata": {
    "cell_id": "d2783d0b45bc4ccfa085fbb67155e2ec",
    "deepnote_cell_height": 153,
    "deepnote_cell_type": "code",
    "deepnote_to_be_reexecuted": false,
    "execution_millis": 6,
    "execution_start": 1653280060429,
    "source_hash": "4b4c338b",
    "tags": []
   },
   "outputs": [],
   "source": [
    "def create_trainer():\n",
    "    network = Model()\n",
    "    optimizer = optim.SGD(network.parameters(), lr=learning_rate,\n",
    "                      momentum=momentum)\n",
    "    return network, optimizer"
   ]
  },
  {
   "cell_type": "code",
   "execution_count": 14,
   "metadata": {
    "cell_id": "dd567972f9cd46ddabe8bb36310d2c0e",
    "deepnote_cell_height": 81,
    "deepnote_cell_type": "code",
    "deepnote_to_be_reexecuted": false,
    "execution_millis": 5,
    "execution_start": 1653280069070,
    "source_hash": "b53881f0",
    "tags": []
   },
   "outputs": [],
   "source": [
    "network, optimizer = create_trainer()"
   ]
  },
  {
   "cell_type": "code",
   "execution_count": 15,
   "metadata": {
    "cell_id": "87a28343f143424fae69668faf90c904",
    "deepnote_cell_height": 405,
    "deepnote_cell_type": "code",
    "deepnote_to_be_reexecuted": false,
    "execution_millis": 1,
    "execution_start": 1653281265010,
    "source_hash": "8cbc2fe5",
    "tags": []
   },
   "outputs": [],
   "source": [
    "def train(epoch):\n",
    "    # set the network in training mode\n",
    "    network.train()\n",
    "\n",
    "    # for every batch of data, start optimizing\n",
    "    for batch_idx, (data, target) in enumerate(train_loader):\n",
    "        optimizer.zero_grad()\n",
    "        output = network(data)\n",
    "        # negative log likelihood loss\n",
    "        loss = F.nll_loss(output, target)\n",
    "        # backprop\n",
    "        loss.backward()\n",
    "        # optimize params\n",
    "        optimizer.step()\n",
    "\n",
    "        if batch_idx % log_interval == 0:\n",
    "            print('Train Epoch: {} [{}/{} ({:.0f}%)]\\tLoss: {:.6f}'.format(\n",
    "            epoch, batch_idx * len(data), len(train_loader.dataset),\n",
    "            100. * batch_idx / len(train_loader), loss.item()))"
   ]
  },
  {
   "cell_type": "code",
   "execution_count": 16,
   "metadata": {
    "cell_id": "e3394a94add64811bd6382e72fa840db",
    "deepnote_cell_height": 351,
    "deepnote_cell_type": "code",
    "deepnote_to_be_reexecuted": false,
    "execution_millis": 3,
    "execution_start": 1653281255216,
    "source_hash": "c891f7d",
    "tags": []
   },
   "outputs": [],
   "source": [
    "def test():\n",
    "    network.eval()\n",
    "    test_loss = 0\n",
    "    correct = 0\n",
    "    # dont store any gradients info\n",
    "    with torch.no_grad():\n",
    "        for data, target in test_loader:\n",
    "            output = network(data)\n",
    "            # negative log likelihood loss\n",
    "            test_loss += F.nll_loss(output, target, size_average=False).item()\n",
    "            pred = output.data.max(1, keepdim=True)[1]\n",
    "            correct += pred.eq(target.data.view_as(pred)).sum()\n",
    "    test_loss /= len(test_loader.dataset)\n",
    "    print('\\nTest set: Avg. loss: {:.4f}, Accuracy: {}/{} ({:.0f}%)\\n'.format(\n",
    "    test_loss, correct, len(test_loader.dataset),\n",
    "    100. * correct / len(test_loader.dataset)))"
   ]
  },
  {
   "cell_type": "code",
   "execution_count": 17,
   "metadata": {
    "cell_id": "c3546c1c374045a1bfccc39a712045dc",
    "deepnote_cell_height": 809,
    "deepnote_cell_type": "code",
    "deepnote_to_be_reexecuted": false,
    "execution_millis": 132789,
    "execution_start": 1653280813507,
    "source_hash": "2c1ae3bf",
    "tags": []
   },
   "outputs": [
    {
     "name": "stderr",
     "output_type": "stream",
     "text": [
      "/var/folders/25/jh4750k15jb0rdspyvfktflc0000gn/T/ipykernel_34196/1282642518.py:30: UserWarning: Implicit dimension choice for log_softmax has been deprecated. Change the call to include dim=X as an argument.\n",
      "  return F.log_softmax(x)\n",
      "/usr/local/lib/python3.9/site-packages/torch/nn/_reduction.py:42: UserWarning: size_average and reduce args will be deprecated, please use reduction='sum' instead.\n",
      "  warnings.warn(warning.format(ret))\n"
     ]
    },
    {
     "name": "stdout",
     "output_type": "stream",
     "text": [
      "\n",
      "Test set: Avg. loss: 2.3096, Accuracy: 924/10000 (9%)\n",
      "\n",
      "Train Epoch: 1 [0/60000 (0%)]\tLoss: 2.313179\n",
      "Train Epoch: 1 [640/60000 (1%)]\tLoss: 2.300776\n",
      "Train Epoch: 1 [1280/60000 (2%)]\tLoss: 2.298872\n",
      "Train Epoch: 1 [1920/60000 (3%)]\tLoss: 2.276723\n",
      "Train Epoch: 1 [2560/60000 (4%)]\tLoss: 2.241102\n",
      "Train Epoch: 1 [3200/60000 (5%)]\tLoss: 2.248727\n",
      "Train Epoch: 1 [3840/60000 (6%)]\tLoss: 2.189346\n",
      "Train Epoch: 1 [4480/60000 (7%)]\tLoss: 2.146075\n",
      "Train Epoch: 1 [5120/60000 (9%)]\tLoss: 2.107432\n",
      "Train Epoch: 1 [5760/60000 (10%)]\tLoss: 2.010181\n",
      "Train Epoch: 1 [6400/60000 (11%)]\tLoss: 1.842804\n",
      "Train Epoch: 1 [7040/60000 (12%)]\tLoss: 1.758986\n",
      "Train Epoch: 1 [7680/60000 (13%)]\tLoss: 1.671717\n",
      "Train Epoch: 1 [8320/60000 (14%)]\tLoss: 1.689134\n",
      "Train Epoch: 1 [8960/60000 (15%)]\tLoss: 1.427019\n",
      "Train Epoch: 1 [9600/60000 (16%)]\tLoss: 1.280802\n",
      "Train Epoch: 1 [10240/60000 (17%)]\tLoss: 1.311030\n",
      "Train Epoch: 1 [10880/60000 (18%)]\tLoss: 1.441940\n",
      "Train Epoch: 1 [11520/60000 (19%)]\tLoss: 1.140555\n",
      "Train Epoch: 1 [12160/60000 (20%)]\tLoss: 1.151660\n",
      "Train Epoch: 1 [12800/60000 (21%)]\tLoss: 1.051933\n",
      "Train Epoch: 1 [13440/60000 (22%)]\tLoss: 0.894787\n",
      "Train Epoch: 1 [14080/60000 (23%)]\tLoss: 1.189509\n",
      "Train Epoch: 1 [14720/60000 (25%)]\tLoss: 0.943907\n",
      "Train Epoch: 1 [15360/60000 (26%)]\tLoss: 0.874338\n",
      "Train Epoch: 1 [16000/60000 (27%)]\tLoss: 0.843033\n",
      "Train Epoch: 1 [16640/60000 (28%)]\tLoss: 0.764724\n",
      "Train Epoch: 1 [17280/60000 (29%)]\tLoss: 0.757614\n",
      "Train Epoch: 1 [17920/60000 (30%)]\tLoss: 0.818882\n",
      "Train Epoch: 1 [18560/60000 (31%)]\tLoss: 0.883733\n",
      "Train Epoch: 1 [19200/60000 (32%)]\tLoss: 0.796737\n",
      "Train Epoch: 1 [19840/60000 (33%)]\tLoss: 0.911369\n",
      "Train Epoch: 1 [20480/60000 (34%)]\tLoss: 0.582851\n",
      "Train Epoch: 1 [21120/60000 (35%)]\tLoss: 0.694429\n",
      "Train Epoch: 1 [21760/60000 (36%)]\tLoss: 0.616654\n",
      "Train Epoch: 1 [22400/60000 (37%)]\tLoss: 0.774378\n",
      "Train Epoch: 1 [23040/60000 (38%)]\tLoss: 0.714178\n",
      "Train Epoch: 1 [23680/60000 (39%)]\tLoss: 0.637739\n",
      "Train Epoch: 1 [24320/60000 (41%)]\tLoss: 0.659805\n",
      "Train Epoch: 1 [24960/60000 (42%)]\tLoss: 0.826972\n",
      "Train Epoch: 1 [25600/60000 (43%)]\tLoss: 0.859753\n",
      "Train Epoch: 1 [26240/60000 (44%)]\tLoss: 0.620925\n",
      "Train Epoch: 1 [26880/60000 (45%)]\tLoss: 0.625687\n",
      "Train Epoch: 1 [27520/60000 (46%)]\tLoss: 0.672251\n",
      "Train Epoch: 1 [28160/60000 (47%)]\tLoss: 0.575333\n",
      "Train Epoch: 1 [28800/60000 (48%)]\tLoss: 0.560160\n",
      "Train Epoch: 1 [29440/60000 (49%)]\tLoss: 0.829687\n",
      "Train Epoch: 1 [30080/60000 (50%)]\tLoss: 0.747186\n",
      "Train Epoch: 1 [30720/60000 (51%)]\tLoss: 0.643276\n",
      "Train Epoch: 1 [31360/60000 (52%)]\tLoss: 0.644536\n",
      "Train Epoch: 1 [32000/60000 (53%)]\tLoss: 0.705778\n",
      "Train Epoch: 1 [32640/60000 (54%)]\tLoss: 0.446522\n",
      "Train Epoch: 1 [33280/60000 (55%)]\tLoss: 0.593933\n",
      "Train Epoch: 1 [33920/60000 (57%)]\tLoss: 0.578897\n",
      "Train Epoch: 1 [34560/60000 (58%)]\tLoss: 0.658160\n",
      "Train Epoch: 1 [35200/60000 (59%)]\tLoss: 0.570524\n",
      "Train Epoch: 1 [35840/60000 (60%)]\tLoss: 0.568362\n",
      "Train Epoch: 1 [36480/60000 (61%)]\tLoss: 0.632030\n",
      "Train Epoch: 1 [37120/60000 (62%)]\tLoss: 0.814496\n",
      "Train Epoch: 1 [37760/60000 (63%)]\tLoss: 0.581711\n",
      "Train Epoch: 1 [38400/60000 (64%)]\tLoss: 0.624525\n",
      "Train Epoch: 1 [39040/60000 (65%)]\tLoss: 0.530443\n",
      "Train Epoch: 1 [39680/60000 (66%)]\tLoss: 0.605392\n",
      "Train Epoch: 1 [40320/60000 (67%)]\tLoss: 0.317975\n",
      "Train Epoch: 1 [40960/60000 (68%)]\tLoss: 0.332058\n",
      "Train Epoch: 1 [41600/60000 (69%)]\tLoss: 0.376348\n",
      "Train Epoch: 1 [42240/60000 (70%)]\tLoss: 0.300404\n",
      "Train Epoch: 1 [42880/60000 (71%)]\tLoss: 0.409563\n",
      "Train Epoch: 1 [43520/60000 (72%)]\tLoss: 0.441105\n",
      "Train Epoch: 1 [44160/60000 (74%)]\tLoss: 0.458366\n",
      "Train Epoch: 1 [44800/60000 (75%)]\tLoss: 0.608302\n",
      "Train Epoch: 1 [45440/60000 (76%)]\tLoss: 0.539528\n",
      "Train Epoch: 1 [46080/60000 (77%)]\tLoss: 0.512390\n",
      "Train Epoch: 1 [46720/60000 (78%)]\tLoss: 0.383555\n",
      "Train Epoch: 1 [47360/60000 (79%)]\tLoss: 0.486332\n",
      "Train Epoch: 1 [48000/60000 (80%)]\tLoss: 0.550688\n",
      "Train Epoch: 1 [48640/60000 (81%)]\tLoss: 0.409627\n",
      "Train Epoch: 1 [49280/60000 (82%)]\tLoss: 0.388154\n",
      "Train Epoch: 1 [49920/60000 (83%)]\tLoss: 0.525007\n",
      "Train Epoch: 1 [50560/60000 (84%)]\tLoss: 0.444131\n",
      "Train Epoch: 1 [51200/60000 (85%)]\tLoss: 0.710385\n",
      "Train Epoch: 1 [51840/60000 (86%)]\tLoss: 0.517924\n",
      "Train Epoch: 1 [52480/60000 (87%)]\tLoss: 0.675239\n",
      "Train Epoch: 1 [53120/60000 (88%)]\tLoss: 0.543847\n",
      "Train Epoch: 1 [53760/60000 (90%)]\tLoss: 0.554239\n",
      "Train Epoch: 1 [54400/60000 (91%)]\tLoss: 0.655726\n",
      "Train Epoch: 1 [55040/60000 (92%)]\tLoss: 0.454249\n",
      "Train Epoch: 1 [55680/60000 (93%)]\tLoss: 0.564228\n",
      "Train Epoch: 1 [56320/60000 (94%)]\tLoss: 0.545107\n",
      "Train Epoch: 1 [56960/60000 (95%)]\tLoss: 0.364196\n",
      "Train Epoch: 1 [57600/60000 (96%)]\tLoss: 0.315404\n",
      "Train Epoch: 1 [58240/60000 (97%)]\tLoss: 0.310822\n",
      "Train Epoch: 1 [58880/60000 (98%)]\tLoss: 0.718817\n",
      "Train Epoch: 1 [59520/60000 (99%)]\tLoss: 0.386382\n",
      "\n",
      "Test set: Avg. loss: 0.1857, Accuracy: 9450/10000 (94%)\n",
      "\n",
      "Train Epoch: 2 [0/60000 (0%)]\tLoss: 0.440112\n",
      "Train Epoch: 2 [640/60000 (1%)]\tLoss: 0.460805\n",
      "Train Epoch: 2 [1280/60000 (2%)]\tLoss: 0.509064\n",
      "Train Epoch: 2 [1920/60000 (3%)]\tLoss: 0.516771\n",
      "Train Epoch: 2 [2560/60000 (4%)]\tLoss: 0.296499\n",
      "Train Epoch: 2 [3200/60000 (5%)]\tLoss: 0.166006\n",
      "Train Epoch: 2 [3840/60000 (6%)]\tLoss: 0.495097\n",
      "Train Epoch: 2 [4480/60000 (7%)]\tLoss: 0.415610\n",
      "Train Epoch: 2 [5120/60000 (9%)]\tLoss: 0.372645\n",
      "Train Epoch: 2 [5760/60000 (10%)]\tLoss: 0.641030\n",
      "Train Epoch: 2 [6400/60000 (11%)]\tLoss: 0.575299\n",
      "Train Epoch: 2 [7040/60000 (12%)]\tLoss: 0.299129\n",
      "Train Epoch: 2 [7680/60000 (13%)]\tLoss: 0.425120\n",
      "Train Epoch: 2 [8320/60000 (14%)]\tLoss: 0.634218\n",
      "Train Epoch: 2 [8960/60000 (15%)]\tLoss: 0.486099\n",
      "Train Epoch: 2 [9600/60000 (16%)]\tLoss: 0.440317\n",
      "Train Epoch: 2 [10240/60000 (17%)]\tLoss: 0.306373\n",
      "Train Epoch: 2 [10880/60000 (18%)]\tLoss: 0.504445\n",
      "Train Epoch: 2 [11520/60000 (19%)]\tLoss: 0.329004\n",
      "Train Epoch: 2 [12160/60000 (20%)]\tLoss: 0.329398\n",
      "Train Epoch: 2 [12800/60000 (21%)]\tLoss: 0.469080\n",
      "Train Epoch: 2 [13440/60000 (22%)]\tLoss: 0.461287\n",
      "Train Epoch: 2 [14080/60000 (23%)]\tLoss: 0.471307\n",
      "Train Epoch: 2 [14720/60000 (25%)]\tLoss: 0.364455\n",
      "Train Epoch: 2 [15360/60000 (26%)]\tLoss: 0.207370\n",
      "Train Epoch: 2 [16000/60000 (27%)]\tLoss: 0.247838\n",
      "Train Epoch: 2 [16640/60000 (28%)]\tLoss: 0.364641\n",
      "Train Epoch: 2 [17280/60000 (29%)]\tLoss: 0.443861\n",
      "Train Epoch: 2 [17920/60000 (30%)]\tLoss: 0.313133\n",
      "Train Epoch: 2 [18560/60000 (31%)]\tLoss: 0.324436\n",
      "Train Epoch: 2 [19200/60000 (32%)]\tLoss: 0.492799\n",
      "Train Epoch: 2 [19840/60000 (33%)]\tLoss: 0.338513\n",
      "Train Epoch: 2 [20480/60000 (34%)]\tLoss: 0.377714\n",
      "Train Epoch: 2 [21120/60000 (35%)]\tLoss: 0.367092\n",
      "Train Epoch: 2 [21760/60000 (36%)]\tLoss: 0.483911\n",
      "Train Epoch: 2 [22400/60000 (37%)]\tLoss: 0.612043\n",
      "Train Epoch: 2 [23040/60000 (38%)]\tLoss: 0.498181\n",
      "Train Epoch: 2 [23680/60000 (39%)]\tLoss: 0.346690\n",
      "Train Epoch: 2 [24320/60000 (41%)]\tLoss: 0.401997\n",
      "Train Epoch: 2 [24960/60000 (42%)]\tLoss: 0.213860\n",
      "Train Epoch: 2 [25600/60000 (43%)]\tLoss: 0.200001\n",
      "Train Epoch: 2 [26240/60000 (44%)]\tLoss: 0.382677\n",
      "Train Epoch: 2 [26880/60000 (45%)]\tLoss: 0.299713\n",
      "Train Epoch: 2 [27520/60000 (46%)]\tLoss: 0.229836\n",
      "Train Epoch: 2 [28160/60000 (47%)]\tLoss: 0.189946\n",
      "Train Epoch: 2 [28800/60000 (48%)]\tLoss: 0.267243\n",
      "Train Epoch: 2 [29440/60000 (49%)]\tLoss: 0.529848\n",
      "Train Epoch: 2 [30080/60000 (50%)]\tLoss: 0.307657\n",
      "Train Epoch: 2 [30720/60000 (51%)]\tLoss: 0.321795\n",
      "Train Epoch: 2 [31360/60000 (52%)]\tLoss: 0.439552\n",
      "Train Epoch: 2 [32000/60000 (53%)]\tLoss: 0.678381\n",
      "Train Epoch: 2 [32640/60000 (54%)]\tLoss: 0.302820\n",
      "Train Epoch: 2 [33280/60000 (55%)]\tLoss: 0.287368\n",
      "Train Epoch: 2 [33920/60000 (57%)]\tLoss: 0.429745\n",
      "Train Epoch: 2 [34560/60000 (58%)]\tLoss: 0.390773\n",
      "Train Epoch: 2 [35200/60000 (59%)]\tLoss: 0.425319\n",
      "Train Epoch: 2 [35840/60000 (60%)]\tLoss: 0.468831\n",
      "Train Epoch: 2 [36480/60000 (61%)]\tLoss: 0.332092\n",
      "Train Epoch: 2 [37120/60000 (62%)]\tLoss: 0.491424\n",
      "Train Epoch: 2 [37760/60000 (63%)]\tLoss: 0.424782\n",
      "Train Epoch: 2 [38400/60000 (64%)]\tLoss: 0.284615\n",
      "Train Epoch: 2 [39040/60000 (65%)]\tLoss: 0.194052\n",
      "Train Epoch: 2 [39680/60000 (66%)]\tLoss: 0.417296\n",
      "Train Epoch: 2 [40320/60000 (67%)]\tLoss: 0.200660\n",
      "Train Epoch: 2 [40960/60000 (68%)]\tLoss: 0.479405\n",
      "Train Epoch: 2 [41600/60000 (69%)]\tLoss: 0.146625\n",
      "Train Epoch: 2 [42240/60000 (70%)]\tLoss: 0.339813\n",
      "Train Epoch: 2 [42880/60000 (71%)]\tLoss: 0.483784\n",
      "Train Epoch: 2 [43520/60000 (72%)]\tLoss: 0.282422\n",
      "Train Epoch: 2 [44160/60000 (74%)]\tLoss: 0.403247\n",
      "Train Epoch: 2 [44800/60000 (75%)]\tLoss: 0.229160\n",
      "Train Epoch: 2 [45440/60000 (76%)]\tLoss: 0.500646\n",
      "Train Epoch: 2 [46080/60000 (77%)]\tLoss: 0.288686\n",
      "Train Epoch: 2 [46720/60000 (78%)]\tLoss: 0.288246\n",
      "Train Epoch: 2 [47360/60000 (79%)]\tLoss: 0.206270\n",
      "Train Epoch: 2 [48000/60000 (80%)]\tLoss: 0.252439\n",
      "Train Epoch: 2 [48640/60000 (81%)]\tLoss: 0.366608\n",
      "Train Epoch: 2 [49280/60000 (82%)]\tLoss: 0.434190\n",
      "Train Epoch: 2 [49920/60000 (83%)]\tLoss: 0.275481\n",
      "Train Epoch: 2 [50560/60000 (84%)]\tLoss: 0.321624\n",
      "Train Epoch: 2 [51200/60000 (85%)]\tLoss: 0.433604\n",
      "Train Epoch: 2 [51840/60000 (86%)]\tLoss: 0.316092\n",
      "Train Epoch: 2 [52480/60000 (87%)]\tLoss: 0.343414\n",
      "Train Epoch: 2 [53120/60000 (88%)]\tLoss: 0.254896\n",
      "Train Epoch: 2 [53760/60000 (90%)]\tLoss: 0.229400\n",
      "Train Epoch: 2 [54400/60000 (91%)]\tLoss: 0.200374\n",
      "Train Epoch: 2 [55040/60000 (92%)]\tLoss: 0.464912\n",
      "Train Epoch: 2 [55680/60000 (93%)]\tLoss: 0.198446\n",
      "Train Epoch: 2 [56320/60000 (94%)]\tLoss: 0.369344\n",
      "Train Epoch: 2 [56960/60000 (95%)]\tLoss: 0.216318\n",
      "Train Epoch: 2 [57600/60000 (96%)]\tLoss: 0.571438\n",
      "Train Epoch: 2 [58240/60000 (97%)]\tLoss: 0.477018\n",
      "Train Epoch: 2 [58880/60000 (98%)]\tLoss: 0.274815\n",
      "Train Epoch: 2 [59520/60000 (99%)]\tLoss: 0.271502\n",
      "\n",
      "Test set: Avg. loss: 0.1158, Accuracy: 9631/10000 (96%)\n",
      "\n",
      "Train Epoch: 3 [0/60000 (0%)]\tLoss: 0.203679\n",
      "Train Epoch: 3 [640/60000 (1%)]\tLoss: 0.241148\n",
      "Train Epoch: 3 [1280/60000 (2%)]\tLoss: 0.375732\n",
      "Train Epoch: 3 [1920/60000 (3%)]\tLoss: 0.242165\n",
      "Train Epoch: 3 [2560/60000 (4%)]\tLoss: 0.242597\n",
      "Train Epoch: 3 [3200/60000 (5%)]\tLoss: 0.315145\n",
      "Train Epoch: 3 [3840/60000 (6%)]\tLoss: 0.269516\n",
      "Train Epoch: 3 [4480/60000 (7%)]\tLoss: 0.481327\n",
      "Train Epoch: 3 [5120/60000 (9%)]\tLoss: 0.484578\n",
      "Train Epoch: 3 [5760/60000 (10%)]\tLoss: 0.400614\n",
      "Train Epoch: 3 [6400/60000 (11%)]\tLoss: 0.320818\n",
      "Train Epoch: 3 [7040/60000 (12%)]\tLoss: 0.348716\n",
      "Train Epoch: 3 [7680/60000 (13%)]\tLoss: 0.251814\n",
      "Train Epoch: 3 [8320/60000 (14%)]\tLoss: 0.159645\n",
      "Train Epoch: 3 [8960/60000 (15%)]\tLoss: 0.256752\n",
      "Train Epoch: 3 [9600/60000 (16%)]\tLoss: 0.252415\n",
      "Train Epoch: 3 [10240/60000 (17%)]\tLoss: 0.285693\n",
      "Train Epoch: 3 [10880/60000 (18%)]\tLoss: 0.282879\n",
      "Train Epoch: 3 [11520/60000 (19%)]\tLoss: 0.420087\n",
      "Train Epoch: 3 [12160/60000 (20%)]\tLoss: 0.202425\n",
      "Train Epoch: 3 [12800/60000 (21%)]\tLoss: 0.464171\n",
      "Train Epoch: 3 [13440/60000 (22%)]\tLoss: 0.322198\n",
      "Train Epoch: 3 [14080/60000 (23%)]\tLoss: 0.369804\n",
      "Train Epoch: 3 [14720/60000 (25%)]\tLoss: 0.317620\n",
      "Train Epoch: 3 [15360/60000 (26%)]\tLoss: 0.315504\n",
      "Train Epoch: 3 [16000/60000 (27%)]\tLoss: 0.791760\n",
      "Train Epoch: 3 [16640/60000 (28%)]\tLoss: 0.535649\n",
      "Train Epoch: 3 [17280/60000 (29%)]\tLoss: 0.432657\n",
      "Train Epoch: 3 [17920/60000 (30%)]\tLoss: 0.306582\n",
      "Train Epoch: 3 [18560/60000 (31%)]\tLoss: 0.332827\n",
      "Train Epoch: 3 [19200/60000 (32%)]\tLoss: 0.319520\n",
      "Train Epoch: 3 [19840/60000 (33%)]\tLoss: 0.361444\n",
      "Train Epoch: 3 [20480/60000 (34%)]\tLoss: 0.190602\n",
      "Train Epoch: 3 [21120/60000 (35%)]\tLoss: 0.183995\n",
      "Train Epoch: 3 [21760/60000 (36%)]\tLoss: 0.330127\n",
      "Train Epoch: 3 [22400/60000 (37%)]\tLoss: 0.214709\n",
      "Train Epoch: 3 [23040/60000 (38%)]\tLoss: 0.447159\n",
      "Train Epoch: 3 [23680/60000 (39%)]\tLoss: 0.206983\n",
      "Train Epoch: 3 [24320/60000 (41%)]\tLoss: 0.252154\n",
      "Train Epoch: 3 [24960/60000 (42%)]\tLoss: 0.170697\n",
      "Train Epoch: 3 [25600/60000 (43%)]\tLoss: 0.429808\n",
      "Train Epoch: 3 [26240/60000 (44%)]\tLoss: 0.207263\n",
      "Train Epoch: 3 [26880/60000 (45%)]\tLoss: 0.198597\n",
      "Train Epoch: 3 [27520/60000 (46%)]\tLoss: 0.215656\n",
      "Train Epoch: 3 [28160/60000 (47%)]\tLoss: 0.344812\n",
      "Train Epoch: 3 [28800/60000 (48%)]\tLoss: 0.449734\n",
      "Train Epoch: 3 [29440/60000 (49%)]\tLoss: 0.150043\n",
      "Train Epoch: 3 [30080/60000 (50%)]\tLoss: 0.281261\n",
      "Train Epoch: 3 [30720/60000 (51%)]\tLoss: 0.250700\n",
      "Train Epoch: 3 [31360/60000 (52%)]\tLoss: 0.205252\n",
      "Train Epoch: 3 [32000/60000 (53%)]\tLoss: 0.412546\n",
      "Train Epoch: 3 [32640/60000 (54%)]\tLoss: 0.316846\n",
      "Train Epoch: 3 [33280/60000 (55%)]\tLoss: 0.177142\n",
      "Train Epoch: 3 [33920/60000 (57%)]\tLoss: 0.434869\n",
      "Train Epoch: 3 [34560/60000 (58%)]\tLoss: 0.254337\n",
      "Train Epoch: 3 [35200/60000 (59%)]\tLoss: 0.331445\n",
      "Train Epoch: 3 [35840/60000 (60%)]\tLoss: 0.506472\n",
      "Train Epoch: 3 [36480/60000 (61%)]\tLoss: 0.189739\n",
      "Train Epoch: 3 [37120/60000 (62%)]\tLoss: 0.199430\n",
      "Train Epoch: 3 [37760/60000 (63%)]\tLoss: 0.337162\n",
      "Train Epoch: 3 [38400/60000 (64%)]\tLoss: 0.425069\n",
      "Train Epoch: 3 [39040/60000 (65%)]\tLoss: 0.370914\n",
      "Train Epoch: 3 [39680/60000 (66%)]\tLoss: 0.195090\n",
      "Train Epoch: 3 [40320/60000 (67%)]\tLoss: 0.225047\n",
      "Train Epoch: 3 [40960/60000 (68%)]\tLoss: 0.432207\n",
      "Train Epoch: 3 [41600/60000 (69%)]\tLoss: 0.319497\n",
      "Train Epoch: 3 [42240/60000 (70%)]\tLoss: 0.371899\n",
      "Train Epoch: 3 [42880/60000 (71%)]\tLoss: 0.171960\n",
      "Train Epoch: 3 [43520/60000 (72%)]\tLoss: 0.248916\n",
      "Train Epoch: 3 [44160/60000 (74%)]\tLoss: 0.287166\n",
      "Train Epoch: 3 [44800/60000 (75%)]\tLoss: 0.196384\n",
      "Train Epoch: 3 [45440/60000 (76%)]\tLoss: 0.232907\n",
      "Train Epoch: 3 [46080/60000 (77%)]\tLoss: 0.338563\n",
      "Train Epoch: 3 [46720/60000 (78%)]\tLoss: 0.199722\n",
      "Train Epoch: 3 [47360/60000 (79%)]\tLoss: 0.367519\n",
      "Train Epoch: 3 [48000/60000 (80%)]\tLoss: 0.323294\n",
      "Train Epoch: 3 [48640/60000 (81%)]\tLoss: 0.216927\n",
      "Train Epoch: 3 [49280/60000 (82%)]\tLoss: 0.218685\n",
      "Train Epoch: 3 [49920/60000 (83%)]\tLoss: 0.503542\n",
      "Train Epoch: 3 [50560/60000 (84%)]\tLoss: 0.416461\n",
      "Train Epoch: 3 [51200/60000 (85%)]\tLoss: 0.406706\n",
      "Train Epoch: 3 [51840/60000 (86%)]\tLoss: 0.224838\n",
      "Train Epoch: 3 [52480/60000 (87%)]\tLoss: 0.491924\n",
      "Train Epoch: 3 [53120/60000 (88%)]\tLoss: 0.221388\n",
      "Train Epoch: 3 [53760/60000 (90%)]\tLoss: 0.170572\n",
      "Train Epoch: 3 [54400/60000 (91%)]\tLoss: 0.380648\n",
      "Train Epoch: 3 [55040/60000 (92%)]\tLoss: 0.306967\n",
      "Train Epoch: 3 [55680/60000 (93%)]\tLoss: 0.180294\n",
      "Train Epoch: 3 [56320/60000 (94%)]\tLoss: 0.271241\n",
      "Train Epoch: 3 [56960/60000 (95%)]\tLoss: 0.330974\n",
      "Train Epoch: 3 [57600/60000 (96%)]\tLoss: 0.505836\n",
      "Train Epoch: 3 [58240/60000 (97%)]\tLoss: 0.361809\n",
      "Train Epoch: 3 [58880/60000 (98%)]\tLoss: 0.112955\n",
      "Train Epoch: 3 [59520/60000 (99%)]\tLoss: 0.297540\n",
      "\n",
      "Test set: Avg. loss: 0.0979, Accuracy: 9684/10000 (97%)\n",
      "\n"
     ]
    }
   ],
   "source": [
    "# evaluate with random first for baseline\n",
    "\n",
    "test()\n",
    "\n",
    "for epoch in range(1, n_epochs + 1):\n",
    "    train(epoch)\n",
    "    test()"
   ]
  },
  {
   "cell_type": "markdown",
   "metadata": {},
   "source": [
    "## Test and save model"
   ]
  },
  {
   "cell_type": "code",
   "execution_count": 18,
   "metadata": {
    "cell_id": "c47e6f0fd83f481887fbb00bfbb35d93",
    "deepnote_cell_height": 333,
    "deepnote_cell_type": "code",
    "deepnote_to_be_reexecuted": false,
    "execution_millis": 6,
    "execution_start": 1653281354586,
    "source_hash": "5a149bae",
    "tags": []
   },
   "outputs": [],
   "source": [
    "def inspect_network(dataloader):\n",
    "    examples = enumerate(dataloader)\n",
    "    batch_idx, (example_data, example_targets) = next(examples)\n",
    "    with torch.no_grad():\n",
    "        output = network(example_data)\n",
    "        fig = plt.figure()\n",
    "        for i in range(6):\n",
    "            plt.subplot(2,3,i+1)\n",
    "            plt.tight_layout()\n",
    "            plt.imshow(example_data[i][0], cmap='gray', interpolation='none')\n",
    "            plt.title(\"Prediction: {}\".format(\n",
    "                output.data.max(1, keepdim=True)[1][i].item()))\n",
    "            plt.xticks([])\n",
    "            plt.yticks([])\n",
    "        fig"
   ]
  },
  {
   "cell_type": "code",
   "execution_count": 19,
   "metadata": {
    "cell_id": "5dfe0cbae5e3426fbc0bdd398f292538",
    "deepnote_cell_height": 416.1875,
    "deepnote_cell_type": "code",
    "deepnote_output_heights": [
     null,
     269
    ],
    "deepnote_to_be_reexecuted": false,
    "execution_millis": 1426,
    "execution_start": 1653281364125,
    "source_hash": "e3b55560",
    "tags": []
   },
   "outputs": [
    {
     "name": "stderr",
     "output_type": "stream",
     "text": [
      "/var/folders/25/jh4750k15jb0rdspyvfktflc0000gn/T/ipykernel_34196/1282642518.py:30: UserWarning: Implicit dimension choice for log_softmax has been deprecated. Change the call to include dim=X as an argument.\n",
      "  return F.log_softmax(x)\n"
     ]
    },
    {
     "data": {
      "image/png": "[encoded data removed]",
      "text/plain": [
       "<Figure size 432x288 with 6 Axes>"
      ]
     },
     "metadata": {},
     "output_type": "display_data"
    }
   ],
   "source": [
    "inspect_network(test_loader)"
   ]
  },
  {
   "cell_type": "code",
   "execution_count": 20,
   "metadata": {
    "cell_id": "620be52f64724a46a9e692b694eae239",
    "deepnote_cell_height": 81,
    "deepnote_cell_type": "code",
    "deepnote_to_be_reexecuted": false,
    "execution_millis": 7,
    "execution_start": 1653281458423,
    "owner_user_id": "eff55c71-5550-4e3d-abb7-61078ec1a7a1",
    "source_hash": "58eee855",
    "tags": []
   },
   "outputs": [],
   "source": [
    "def export_network(name, network, dataloader):\n",
    "    examples = enumerate(dataloader)\n",
    "    batch_idx, (example_data, example_targets) = next(examples)\n",
    "    torch.onnx.export(\n",
    "        network,\n",
    "        example_data,\n",
    "        name+\".onnx\",\n",
    "        export_params=True,\n",
    "        do_constant_folding=True,\n",
    "        input_names = ['input'],\n",
    "        output_names = ['output']\n",
    "    )"
   ]
  },
  {
   "cell_type": "code",
   "execution_count": 24,
   "metadata": {},
   "outputs": [
    {
     "name": "stderr",
     "output_type": "stream",
     "text": [
      "/var/folders/25/jh4750k15jb0rdspyvfktflc0000gn/T/ipykernel_34196/1282642518.py:30: UserWarning: Implicit dimension choice for log_softmax has been deprecated. Change the call to include dim=X as an argument.\n",
      "  return F.log_softmax(x)\n"
     ]
    }
   ],
   "source": [
    "export_network(FILES_DIR+\"original\", network, test_loader)"
   ]
  },
  {
   "cell_type": "markdown",
   "metadata": {
    "created_in_deepnote_cell": true,
    "deepnote_cell_type": "markdown",
    "tags": []
   },
   "source": [
    "<a style='text-decoration:none;line-height16px;display:flex;color:#5B5B62;padding:10px;justify-content:end;' href='https://deepnote.com?utm_source=created-in-deepnote-cell&projectId=c58d706a-64e6-4bb8-b6a7-299639e5deaa' target=\"_blank\">\n",
    "<img alt='Created in deepnote.com' style='display:inline;max-height:16px;margin:0px;margin-right:7.5px;' src='data:image/svg+xml;base64,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' > </img>\n",
    "Created in <span style='font-weight:600;margin-left:4px;'>Deepnote</span></a>"
   ]
  }
 ],
 "metadata": {
  "deepnote": {},
  "deepnote_execution_queue": [],
  "deepnote_notebook_id": "33cde898-7a8d-4f24-8359-a1bb33feb896",
  "interpreter": {
   "hash": "aee8b7b246df8f9039afb4144a1f6fd8d2ca17a180786b69acc140d282b71a49"
  },
  "kernelspec": {
   "display_name": "Python 3.9.13 64-bit",
   "language": "python",
   "name": "python3"
  },
  "language_info": {
   "codemirror_mode": {
    "name": "ipython",
    "version": 3
   },
   "file_extension": ".py",
   "mimetype": "text/x-python",
   "name": "python",
   "nbconvert_exporter": "python",
   "pygments_lexer": "ipython3",
   "version": "3.9.13"
  },
  "orig_nbformat": 2
 },
 "nbformat": 4,
 "nbformat_minor": 2
}
